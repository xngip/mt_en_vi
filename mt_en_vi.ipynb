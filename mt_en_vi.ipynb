{
  "cells": [
    {
      "cell_type": "markdown",
      "id": "ab37e7de",
      "metadata": {
        "id": "ab37e7de"
      },
      "source": [
        "## Cài đặt các thư viện cần thiết"
      ]
    },
    {
      "cell_type": "code",
      "execution_count": 1,
      "id": "fac511c2",
      "metadata": {
        "colab": {
          "base_uri": "https://localhost:8080/"
        },
        "id": "fac511c2",
        "outputId": "bd556d3d-e923-44a5-91f7-b924acbb4b71"
      },
      "outputs": [
        {
          "output_type": "stream",
          "name": "stdout",
          "text": [
            "\u001b[2K   \u001b[90m━━━━━━━━━━━━━━━━━━━━━━━━━━━━━━━━━━━━━━━━\u001b[0m \u001b[32m20.9/20.9 MB\u001b[0m \u001b[31m50.9 MB/s\u001b[0m eta \u001b[36m0:00:00\u001b[0m\n",
            "\u001b[2K   \u001b[90m━━━━━━━━━━━━━━━━━━━━━━━━━━━━━━━━━━━━━━━━\u001b[0m \u001b[32m657.8/657.8 kB\u001b[0m \u001b[31m15.7 MB/s\u001b[0m eta \u001b[36m0:00:00\u001b[0m\n",
            "\u001b[2K   \u001b[90m━━━━━━━━━━━━━━━━━━━━━━━━━━━━━━━━━━━━━━━━\u001b[0m \u001b[32m1.3/1.3 MB\u001b[0m \u001b[31m23.8 MB/s\u001b[0m eta \u001b[36m0:00:00\u001b[0m\n",
            "\u001b[2K     \u001b[90m━━━━━━━━━━━━━━━━━━━━━━━━━━━━━━━━━━━━━━━━\u001b[0m \u001b[32m51.8/51.8 kB\u001b[0m \u001b[31m3.6 MB/s\u001b[0m eta \u001b[36m0:00:00\u001b[0m\n",
            "\u001b[2K   \u001b[90m━━━━━━━━━━━━━━━━━━━━━━━━━━━━━━━━━━━━━━━━\u001b[0m \u001b[32m104.1/104.1 kB\u001b[0m \u001b[31m8.6 MB/s\u001b[0m eta \u001b[36m0:00:00\u001b[0m\n",
            "\u001b[?25h"
          ]
        }
      ],
      "source": [
        "! pip install underthesea --quiet\n",
        "! pip install gdown --quiet\n",
        "! pip install sacrebleu --quiet"
      ]
    },
    {
      "cell_type": "code",
      "execution_count": 2,
      "id": "aa8db9f5",
      "metadata": {
        "colab": {
          "base_uri": "https://localhost:8080/"
        },
        "id": "aa8db9f5",
        "outputId": "d4165d1f-c1d4-46d6-9208-fd5ae24d0c1c"
      },
      "outputs": [
        {
          "output_type": "stream",
          "name": "stdout",
          "text": [
            "Path to dataset files: /kaggle/input/englishvietnamese-translation\n"
          ]
        }
      ],
      "source": [
        "import kagglehub\n",
        "\n",
        "# Download latest version\n",
        "path = kagglehub.dataset_download(\"hungnm/englishvietnamese-translation\")\n",
        "\n",
        "print(\"Path to dataset files:\", path)"
      ]
    },
    {
      "cell_type": "code",
      "execution_count": 3,
      "id": "4ef0355d",
      "metadata": {
        "id": "4ef0355d"
      },
      "outputs": [],
      "source": [
        "import os\n",
        "import io\n",
        "import time\n",
        "import json\n",
        "import pickle\n",
        "import numpy as np\n",
        "import tensorflow as tf\n",
        "from keras.metrics import Mean\n",
        "import matplotlib.pyplot as plt\n",
        "from keras.optimizers import Adam\n",
        "from underthesea import word_tokenize\n",
        "from keras.utils import pad_sequences\n",
        "from keras.losses import SparseCategoricalCrossentropy\n",
        "from tensorflow.keras.preprocessing.text import tokenizer_from_json, Tokenizer"
      ]
    },
    {
      "cell_type": "code",
      "execution_count": 4,
      "id": "afea29eb",
      "metadata": {
        "id": "afea29eb"
      },
      "outputs": [],
      "source": [
        "ENCODER_LEN = 100 # max length of encoder input\n",
        "DECODER_LEN = 100 # max length of decoder input\n",
        "BATCH_SIZE = 64 # batch size\n",
        "BUFFER_SIZE = BATCH_SIZE * 8 # buffer size for shuffling"
      ]
    },
    {
      "cell_type": "markdown",
      "id": "049820d3",
      "metadata": {
        "id": "049820d3"
      },
      "source": [
        "## Load dữ liệu và tiền xử lý"
      ]
    },
    {
      "cell_type": "code",
      "execution_count": 5,
      "id": "bdfee03f",
      "metadata": {
        "id": "bdfee03f"
      },
      "outputs": [],
      "source": [
        "en_file_path = os.path.join(path, \"en_sents\")\n",
        "vi_file_path = os.path.join(path, \"vi_sents\")\n",
        "\n",
        "with open(en_file_path, \"r\", encoding=\"utf-8\") as f_en, \\\n",
        "        open(vi_file_path, \"r\", encoding=\"utf-8\") as f_vi:\n",
        "    en_lines = f_en.read().splitlines()\n",
        "    vi_lines = f_vi.read().splitlines()"
      ]
    },
    {
      "cell_type": "code",
      "execution_count": 6,
      "id": "196aea1e",
      "metadata": {
        "colab": {
          "base_uri": "https://localhost:8080/"
        },
        "id": "196aea1e",
        "outputId": "cb92283a-76b4-4f1b-dcb0-fd52e2227566"
      },
      "outputs": [
        {
          "output_type": "stream",
          "name": "stdout",
          "text": [
            "Number of English sentences: 254090\n",
            "Number of Vietnamese sentences: 254090\n"
          ]
        }
      ],
      "source": [
        "print(f\"Number of English sentences: {len(en_lines)}\")\n",
        "print(f\"Number of Vietnamese sentences: {len(vi_lines)}\")"
      ]
    },
    {
      "cell_type": "code",
      "execution_count": 7,
      "id": "ed40c915",
      "metadata": {
        "id": "ed40c915"
      },
      "outputs": [],
      "source": [
        "train_size = int(0.8 * len(en_lines))\n",
        "val_size = int(0.1 * len(en_lines))\n",
        "test_size = len(en_lines) - train_size - val_size\n",
        "\n",
        "train_data = {\"en\": en_lines[:train_size], \"vi\": vi_lines[:train_size]}\n",
        "val_data = {\"en\": en_lines[train_size:train_size + val_size], \"vi\": vi_lines[train_size:train_size + val_size]}\n",
        "test_data = {\"en\": en_lines[train_size + val_size:], \"vi\": vi_lines[train_size + val_size:]}"
      ]
    },
    {
      "cell_type": "code",
      "execution_count": 8,
      "id": "554d208e",
      "metadata": {
        "colab": {
          "base_uri": "https://localhost:8080/"
        },
        "id": "554d208e",
        "outputId": "1b4ec345-a60a-4f8c-8a91-83c2fde55309"
      },
      "outputs": [
        {
          "output_type": "stream",
          "name": "stdout",
          "text": [
            "Number of English sentences: 203272\n",
            "Number of Vietnamese sentences: 203272\n"
          ]
        }
      ],
      "source": [
        "print(f\"Number of English sentences: {len(train_data['en'])}\")\n",
        "print(f\"Number of Vietnamese sentences: {len(train_data['vi'])}\")"
      ]
    },
    {
      "cell_type": "code",
      "execution_count": 9,
      "id": "632dd6f5",
      "metadata": {
        "colab": {
          "base_uri": "https://localhost:8080/"
        },
        "id": "632dd6f5",
        "outputId": "f0090e12-e471-4a07-acea-33e613ec7e73"
      },
      "outputs": [
        {
          "output_type": "execute_result",
          "data": {
            "text/plain": [
              "['Please put the dustpan in the broom closet',\n",
              " 'Be quiet for a moment.',\n",
              " 'Read this']"
            ]
          },
          "metadata": {},
          "execution_count": 9
        }
      ],
      "source": [
        "train_data[\"en\"][:3]"
      ]
    },
    {
      "cell_type": "code",
      "execution_count": 10,
      "id": "1e0c816c",
      "metadata": {
        "colab": {
          "base_uri": "https://localhost:8080/"
        },
        "id": "1e0c816c",
        "outputId": "5cde37df-7184-483e-ae73-c467f71ba38e"
      },
      "outputs": [
        {
          "output_type": "execute_result",
          "data": {
            "text/plain": [
              "['xin vui lòng đặt người quét rác trong tủ chổi', 'im lặng một lát', 'đọc này']"
            ]
          },
          "metadata": {},
          "execution_count": 10
        }
      ],
      "source": [
        "train_data[\"vi\"][:3]"
      ]
    },
    {
      "cell_type": "code",
      "execution_count": 11,
      "id": "80b7b319",
      "metadata": {
        "id": "80b7b319"
      },
      "outputs": [],
      "source": [
        "def preprocess_texts(texts, is_vietnamese=True):\n",
        "    if isinstance(texts, str):\n",
        "        texts = [texts]\n",
        "\n",
        "    tokenized_texts = []\n",
        "    for text in texts:\n",
        "        if is_vietnamese:\n",
        "            tokens = word_tokenize(text.lower().strip())\n",
        "        else:\n",
        "            tokens = text.lower().strip().split()\n",
        "        tokens.insert(0, \"startseq\")\n",
        "        tokens.append(\"endseq\")\n",
        "        tokenized_texts.append(\" \".join(tokens))\n",
        "    return tokenized_texts"
      ]
    },
    {
      "cell_type": "code",
      "execution_count": 12,
      "id": "16b7e9f6",
      "metadata": {
        "id": "16b7e9f6"
      },
      "outputs": [],
      "source": [
        "# Preprocess and tokenize\n",
        "preprocessed_en = preprocess_texts(train_data[\"en\"], is_vietnamese=False)\n",
        "preprocessed_vi = preprocess_texts(train_data[\"vi\"], is_vietnamese=True)\n",
        "\n",
        "filters = '!\"#$%&()*+,-./:;=?@[\\\\]^_`{|}~\\t\\n'\n",
        "\n",
        "oov_token = '<Unknow>'\n",
        "\n",
        "en_tokenizer = Tokenizer(filters=filters, oov_token=oov_token)\n",
        "vi_tokenizer = Tokenizer(filters=filters, oov_token=oov_token)"
      ]
    },
    {
      "cell_type": "code",
      "execution_count": 13,
      "id": "ggeFaFqwIqsi",
      "metadata": {
        "id": "ggeFaFqwIqsi"
      },
      "outputs": [],
      "source": [
        "en_tokenizer.fit_on_texts(preprocessed_en)\n",
        "vi_tokenizer.fit_on_texts(preprocessed_vi)"
      ]
    },
    {
      "cell_type": "code",
      "execution_count": 14,
      "id": "eb4e788e",
      "metadata": {
        "id": "eb4e788e"
      },
      "outputs": [],
      "source": [
        "inputs = en_tokenizer.texts_to_sequences(preprocessed_en)\n",
        "targets = vi_tokenizer.texts_to_sequences(preprocessed_vi)"
      ]
    },
    {
      "cell_type": "code",
      "execution_count": 15,
      "id": "c593b3b1",
      "metadata": {
        "id": "c593b3b1"
      },
      "outputs": [],
      "source": [
        "inputs = pad_sequences(\n",
        "    inputs,\n",
        "    maxlen=ENCODER_LEN,\n",
        "    padding='post',\n",
        "    truncating='post'\n",
        ")\n",
        "\n",
        "targets = pad_sequences(\n",
        "    targets,\n",
        "    maxlen=DECODER_LEN,\n",
        "    padding='post',\n",
        "    truncating='post'\n",
        ")\n",
        "inputs = tf.cast(inputs, dtype=tf.int64)\n",
        "targets = tf.cast(targets, dtype=tf.int64)"
      ]
    },
    {
      "cell_type": "code",
      "execution_count": 16,
      "id": "9d8327ac",
      "metadata": {
        "id": "9d8327ac"
      },
      "outputs": [],
      "source": [
        "dataset = tf.data.Dataset.from_tensor_slices((inputs, targets)).shuffle(BUFFER_SIZE).batch(BATCH_SIZE)"
      ]
    },
    {
      "cell_type": "code",
      "execution_count": 17,
      "id": "YVWtzo_nNfM6",
      "metadata": {
        "colab": {
          "base_uri": "https://localhost:8080/"
        },
        "id": "YVWtzo_nNfM6",
        "outputId": "968ce5a0-963b-4cfa-c0ca-3dc373f3d691"
      },
      "outputs": [
        {
          "output_type": "stream",
          "name": "stdout",
          "text": [
            "19245 6477\n"
          ]
        }
      ],
      "source": [
        "print(len(en_tokenizer.word_index) + 1, len(vi_tokenizer.word_index) + 1)"
      ]
    },
    {
      "cell_type": "code",
      "execution_count": 18,
      "id": "4PP1IJ3KwLuv",
      "metadata": {
        "colab": {
          "base_uri": "https://localhost:8080/"
        },
        "id": "4PP1IJ3KwLuv",
        "outputId": "fbcc9cbc-ffb2-4eb2-8970-f3ff53a1fa96"
      },
      "outputs": [
        {
          "output_type": "stream",
          "name": "stdout",
          "text": [
            "2\n"
          ]
        }
      ],
      "source": [
        "print(vi_tokenizer.word_index.get('startseq'))"
      ]
    },
    {
      "cell_type": "markdown",
      "id": "fec66e8d",
      "metadata": {
        "id": "fec66e8d"
      },
      "source": [
        "## Các thành phần của Transformer"
      ]
    },
    {
      "cell_type": "code",
      "execution_count": 19,
      "id": "66d73e72",
      "metadata": {
        "id": "66d73e72"
      },
      "outputs": [],
      "source": [
        "# Hàm tính góc cho vào positional i, d_model là số chiều của vector\n",
        "# Là tính góc cho các sin, cos của các từ cho dễ tính toán\n",
        "def get_angles(position, i, d_model):\n",
        "    angle_rates = 1 / np.power(10000, (2 * (i // 2)) / np.float32(d_model))\n",
        "    return position * angle_rates\n",
        "\n",
        "\n",
        "def positional_encoding(position, d_model):\n",
        "    # tính góc cho các từ\n",
        "    angle_rads = get_angles(\n",
        "        np.arange(position)[:, np.newaxis],\n",
        "        np.arange(d_model)[np.newaxis, :],\n",
        "        d_model\n",
        "    )\n",
        "\n",
        "    # tính sin cho các từ ở vị trí chẵn\n",
        "    angle_rads[:, 0::2] = np.sin(angle_rads[:, 0::2])\n",
        "\n",
        "    # tính cos cho các từ ở vị trí lẻ\n",
        "    angle_rads[:, 1::2] = np.cos(angle_rads[:, 1::2])\n",
        "\n",
        "    pos_encoding = angle_rads[np.newaxis, ...]\n",
        "\n",
        "\n",
        "    return tf.cast(pos_encoding, dtype=tf.float32)"
      ]
    },
    {
      "cell_type": "code",
      "execution_count": 20,
      "id": "b380ab0a",
      "metadata": {
        "id": "b380ab0a"
      },
      "outputs": [],
      "source": [
        "def create_padding_mask(seq):\n",
        "    seq = tf.cast(tf.math.equal(seq, 0), tf.float32)\n",
        "    return seq[:, tf.newaxis, tf.newaxis, :]"
      ]
    },
    {
      "cell_type": "code",
      "execution_count": 21,
      "id": "7cfbe010",
      "metadata": {
        "id": "7cfbe010"
      },
      "outputs": [],
      "source": [
        "def create_look_ahead_mask(size):\n",
        "    mask = 1 - tf.linalg.band_part(tf.ones((size, size)), -1, 0)\n",
        "    return mask"
      ]
    },
    {
      "cell_type": "code",
      "execution_count": 22,
      "id": "9f853f94",
      "metadata": {
        "id": "9f853f94"
      },
      "outputs": [],
      "source": [
        "def scaled_dot_product_attention(q, k, v, mask):\n",
        "    matmul_qk = tf.matmul(q, k, transpose_b=True)\n",
        "\n",
        "    dk = tf.cast(tf.shape(k)[-1], tf.float32)\n",
        "    scaled_attention_logits = matmul_qk / tf.math.sqrt(dk)\n",
        "\n",
        "    if mask is not None:\n",
        "        scaled_attention_logits += (mask * -1e9)\n",
        "\n",
        "    attention_weights = tf.nn.softmax(scaled_attention_logits, axis=-1)\n",
        "\n",
        "    output = tf.matmul(attention_weights, v)\n",
        "    return output, attention_weights"
      ]
    },
    {
      "cell_type": "markdown",
      "id": "a6bf4367",
      "metadata": {
        "id": "a6bf4367"
      },
      "source": [
        "### Multi head Attention"
      ]
    },
    {
      "cell_type": "code",
      "execution_count": 23,
      "id": "7b94fe5a",
      "metadata": {
        "id": "7b94fe5a"
      },
      "outputs": [],
      "source": [
        "class MultiHeadAttention(tf.keras.layers.Layer):\n",
        "    def __init__(self, d_model, num_heads): # Khởi tạo một multi-head attention\n",
        "        super(MultiHeadAttention, self).__init__()\n",
        "        self.num_heads = num_heads\n",
        "        self.d_model = d_model\n",
        "\n",
        "        assert d_model % self.num_heads == 0\n",
        "\n",
        "        self.depth = d_model // self.num_heads\n",
        "\n",
        "        self.wq = tf.keras.layers.Dense(d_model)\n",
        "        self.wk = tf.keras.layers.Dense(d_model)\n",
        "        self.wv = tf.keras.layers.Dense(d_model)\n",
        "\n",
        "        self.dense = tf.keras.layers.Dense(d_model)\n",
        "\n",
        "    def split_heads(self, x, batch_size):\n",
        "        x = tf.reshape(x, (batch_size, -1, self.num_heads, self.depth))\n",
        "        return tf.transpose(x, perm=[0, 2, 1, 3])\n",
        "\n",
        "    def call(self, v, k, q, mask):\n",
        "        batch_size = tf.shape(q)[0]\n",
        "\n",
        "        q = self.wq(q)\n",
        "        k = self.wk(k)\n",
        "        v = self.wv(v)\n",
        "\n",
        "        q = self.split_heads(q, batch_size)\n",
        "        k = self.split_heads(k, batch_size)\n",
        "        v = self.split_heads(v, batch_size)\n",
        "\n",
        "        scaled_attention, attention_weights = scaled_dot_product_attention(\n",
        "            q, k, v, mask)\n",
        "\n",
        "        scaled_attention = tf.transpose(scaled_attention, perm=[0, 2, 1, 3])\n",
        "\n",
        "        concat_attention = tf.reshape(scaled_attention, (batch_size, -1, self.d_model))\n",
        "        output = self.dense(concat_attention)\n",
        "\n",
        "        return output, attention_weights"
      ]
    },
    {
      "cell_type": "code",
      "execution_count": 24,
      "id": "ca70b305",
      "metadata": {
        "id": "ca70b305"
      },
      "outputs": [],
      "source": [
        "def point_wise_feed_forward_network(d_model, dff):\n",
        "    return tf.keras.Sequential([\n",
        "        tf.keras.layers.Dense(dff, activation='relu'),\n",
        "        tf.keras.layers.Dense(d_model)\n",
        "    ])"
      ]
    },
    {
      "cell_type": "markdown",
      "id": "ee6c4506",
      "metadata": {
        "id": "ee6c4506"
      },
      "source": [
        "### Lớp Encoder Layer"
      ]
    },
    {
      "cell_type": "code",
      "execution_count": 25,
      "id": "09ecd1a0",
      "metadata": {
        "id": "09ecd1a0"
      },
      "outputs": [],
      "source": [
        "class EncoderLayer(tf.keras.layers.Layer): # Lớp Encoder Layer\n",
        "    def __init__(self, d_model, num_heads, dff, rate=0.1):\n",
        "        super(EncoderLayer, self).__init__()\n",
        "\n",
        "        self.mha = MultiHeadAttention(d_model, num_heads)\n",
        "        self.ffn = point_wise_feed_forward_network(d_model, dff)\n",
        "\n",
        "        self.layernorm1 = tf.keras.layers.LayerNormalization(epsilon=1e-6)\n",
        "        self.layernorm2 = tf.keras.layers.LayerNormalization(epsilon=1e-6)\n",
        "\n",
        "        self.dropout1 = tf.keras.layers.Dropout(rate)\n",
        "        self.dropout2 = tf.keras.layers.Dropout(rate)\n",
        "\n",
        "    def call(self, x, training, mask):\n",
        "        attn_output, _ = self.mha(x, x, x, mask)\n",
        "        attn_output = self.dropout1(attn_output, training=training)\n",
        "        out1 = self.layernorm1(x + attn_output)\n",
        "\n",
        "        ffn_output = self.ffn(out1)\n",
        "        ffn_output = self.dropout2(ffn_output, training=training)\n",
        "        out2 = self.layernorm2(out1 + ffn_output)\n",
        "\n",
        "        return out2"
      ]
    },
    {
      "cell_type": "markdown",
      "id": "125d7756",
      "metadata": {
        "id": "125d7756"
      },
      "source": [
        "### Lớp Decoder Layer"
      ]
    },
    {
      "cell_type": "code",
      "execution_count": 26,
      "id": "69db9399",
      "metadata": {
        "id": "69db9399"
      },
      "outputs": [],
      "source": [
        "class DecoderLayer(tf.keras.layers.Layer):\n",
        "    def __init__(self, d_model, num_heads, dff, rate=0.1):\n",
        "        super(DecoderLayer, self).__init__()\n",
        "\n",
        "        self.mha1 = MultiHeadAttention(d_model, num_heads)\n",
        "        self.mha2 = MultiHeadAttention(d_model, num_heads)\n",
        "\n",
        "        self.ffn = point_wise_feed_forward_network(d_model, dff)\n",
        "\n",
        "        self.layernorm1 = tf.keras.layers.LayerNormalization(epsilon=1e-6)\n",
        "        self.layernorm2 = tf.keras.layers.LayerNormalization(epsilon=1e-6)\n",
        "        self.layernorm3 = tf.keras.layers.LayerNormalization(epsilon=1e-6)\n",
        "\n",
        "        self.dropout1 = tf.keras.layers.Dropout(rate)\n",
        "        self.dropout2 = tf.keras.layers.Dropout(rate)\n",
        "        self.dropout3 = tf.keras.layers.Dropout(rate)\n",
        "\n",
        "    def call(self, x, enc_output, training, look_ahead_mask, padding_mask):\n",
        "        attn1, attn_weights_block1 = self.mha1(x, x, x, look_ahead_mask)\n",
        "        attn1 = self.dropout1(attn1, training=training)\n",
        "        out1 = self.layernorm1(attn1 + x)\n",
        "\n",
        "        attn2, attn_weights_block2 = self.mha2(enc_output, enc_output, out1, padding_mask)\n",
        "        attn2 = self.dropout2(attn2, training=training)\n",
        "        out2 = self.layernorm2(attn2 + out1)\n",
        "\n",
        "        ffn_output = self.ffn(out2)\n",
        "        ffn_output = self.dropout3(ffn_output, training=training)\n",
        "        out3 = self.layernorm3(ffn_output + out2)\n",
        "\n",
        "        return out3, attn_weights_block1, attn_weights_block2"
      ]
    },
    {
      "cell_type": "markdown",
      "id": "c5865dbe",
      "metadata": {
        "id": "c5865dbe"
      },
      "source": [
        "### Khối Encoder"
      ]
    },
    {
      "cell_type": "code",
      "execution_count": 27,
      "id": "0f44e200",
      "metadata": {
        "id": "0f44e200"
      },
      "outputs": [],
      "source": [
        "class Encoder(tf.keras.layers.Layer):\n",
        "    def __init__(self, num_layers, d_model, num_heads, dff, input_vocab_size, maximum_position_encoding, rate=0.1):\n",
        "        super(Encoder, self).__init__()\n",
        "\n",
        "        self.d_model = d_model\n",
        "        self.num_layers = num_layers\n",
        "\n",
        "        self.embedding = tf.keras.layers.Embedding(input_vocab_size, d_model)\n",
        "        self.pos_encoding = positional_encoding(maximum_position_encoding, self.d_model)\n",
        "\n",
        "        self.enc_layers = [EncoderLayer(d_model, num_heads, dff, rate) for _ in range(num_layers)]\n",
        "\n",
        "        self.dropout = tf.keras.layers.Dropout(rate)\n",
        "\n",
        "    def call(self, x, training, mask):\n",
        "        seq_len = tf.shape(x)[1]\n",
        "\n",
        "        x = self.embedding(x)\n",
        "        x *= tf.math.sqrt(tf.cast(self.d_model, tf.float32))\n",
        "        x += self.pos_encoding[:, :seq_len, :]\n",
        "\n",
        "        x = self.dropout(x, training=training)\n",
        "\n",
        "        for i in range(self.num_layers):\n",
        "            x = self.enc_layers[i](x, training=training, mask=mask)\n",
        "\n",
        "        return x"
      ]
    },
    {
      "cell_type": "markdown",
      "id": "666e8271",
      "metadata": {
        "id": "666e8271"
      },
      "source": [
        "### Khối Decoder"
      ]
    },
    {
      "cell_type": "code",
      "execution_count": 28,
      "id": "cec13056",
      "metadata": {
        "id": "cec13056"
      },
      "outputs": [],
      "source": [
        "class Decoder(tf.keras.layers.Layer):\n",
        "\n",
        "    def __init__(self, num_layers, d_model, num_heads, dff, target_vocab_size, maximum_position_encoding, rate=0.1):\n",
        "        super(Decoder, self).__init__()\n",
        "\n",
        "        self.d_model = d_model\n",
        "        self.num_layers = num_layers\n",
        "\n",
        "        self.embedding = tf.keras.layers.Embedding(target_vocab_size, d_model)\n",
        "        self.pos_encoding = positional_encoding(maximum_position_encoding, d_model)\n",
        "\n",
        "        self.dec_layers = [DecoderLayer(d_model, num_heads, dff, rate) for _ in range(num_layers)]\n",
        "        self.dropout = tf.keras.layers.Dropout(rate)\n",
        "\n",
        "    def call(self, x, enc_output, training, look_ahead_mask, padding_mask):\n",
        "        seq_len = tf.shape(x)[1]\n",
        "        attention_weights = {}\n",
        "\n",
        "        x = self.embedding(x)\n",
        "        x *= tf.math.sqrt(tf.cast(self.d_model, tf.float32))\n",
        "        x += self.pos_encoding[:, :seq_len, :]\n",
        "\n",
        "        x = self.dropout(x, training=training)\n",
        "\n",
        "        for i in range(self.num_layers):\n",
        "            x, block1, block2 = self.dec_layers[i](\n",
        "                x,\n",
        "                enc_output,\n",
        "                training=training,\n",
        "                look_ahead_mask=look_ahead_mask,\n",
        "                padding_mask=padding_mask\n",
        "            )\n",
        "\n",
        "\n",
        "            attention_weights['decoder_layer{}_block1'.format(i + 1)] = block1\n",
        "            attention_weights['decoder_layer{}_block2'.format(i + 1)] = block2\n",
        "\n",
        "        return x, attention_weights"
      ]
    },
    {
      "cell_type": "markdown",
      "id": "f8e05d33",
      "metadata": {
        "id": "f8e05d33"
      },
      "source": [
        "### Mô hình Transformer"
      ]
    },
    {
      "cell_type": "code",
      "execution_count": 29,
      "id": "3754b757",
      "metadata": {
        "id": "3754b757"
      },
      "outputs": [],
      "source": [
        "class Transformer(tf.keras.Model):\n",
        "    def __init__(self, num_layers, d_model, num_heads, dff, input_vocab_size, target_vocab_size,\n",
        "                 pe_input, pe_target, rate=0.1):\n",
        "        super(Transformer, self).__init__()\n",
        "\n",
        "        self.encoder = Encoder(num_layers, d_model, num_heads, dff,\n",
        "                               input_vocab_size, pe_input, rate)\n",
        "\n",
        "        self.decoder = Decoder(num_layers, d_model, num_heads, dff,\n",
        "                               target_vocab_size, pe_target, rate)\n",
        "\n",
        "        self.final_layer = tf.keras.layers.Dense(target_vocab_size)\n",
        "\n",
        "    def call(self, inp, tar, training, enc_padding_mask, look_ahead_mask, dec_padding_mask):\n",
        "        enc_output = self.encoder(\n",
        "            inp,\n",
        "            training=training,\n",
        "            mask=enc_padding_mask\n",
        "        )\n",
        "\n",
        "        dec_output, attention_weights = self.decoder(\n",
        "            tar,\n",
        "            enc_output,\n",
        "            training=training,\n",
        "            look_ahead_mask=look_ahead_mask,\n",
        "            padding_mask=dec_padding_mask\n",
        "        )\n",
        "\n",
        "        final_output = self.final_layer(dec_output)\n",
        "\n",
        "        return final_output, attention_weights"
      ]
    },
    {
      "cell_type": "code",
      "execution_count": 30,
      "id": "4bbc9e2e",
      "metadata": {
        "id": "4bbc9e2e"
      },
      "outputs": [],
      "source": [
        "num_layers = 6 # number of layers của encoder và decoder hay là số khối encoder và decoder\n",
        "d_model = 128 # Dim của vector đầu ra của mỗi layer trong encoder và decoder\n",
        "dff = 512 # Dim của feed forward network\n",
        "num_heads = 4 # Số head trong multi-head attention\n",
        "dropout_rate = 0.15 # Tỷ lệ dropout\n",
        "EPOCHS = 15 # Số epoch"
      ]
    },
    {
      "cell_type": "markdown",
      "id": "08353918",
      "metadata": {
        "id": "08353918"
      },
      "source": [
        "### Set up the optimizer"
      ]
    },
    {
      "cell_type": "markdown",
      "id": "cdf91957",
      "metadata": {
        "id": "cdf91957"
      },
      "source": [
        "Learning rate được tính theo công thức sau:\n",
        "$lrate = d_{model}^{-0.5} * min(\\text{step_num}^{-0.5}, \\text{step_num}.\\text{warmup_step}^{-1.5}) $"
      ]
    },
    {
      "cell_type": "code",
      "execution_count": 31,
      "id": "d55a771a",
      "metadata": {
        "id": "d55a771a"
      },
      "outputs": [],
      "source": [
        "class CustomSchedule(tf.keras.optimizers.schedules.LearningRateSchedule):\n",
        "    def __init__(self, d_model, warmup_steps=4000):\n",
        "        super().__init__()\n",
        "        self.d_model = tf.cast(d_model, tf.float32)\n",
        "        self.warmup_steps = warmup_steps\n",
        "\n",
        "    def __call__(self, step):\n",
        "        step = tf.cast(step, tf.float32)\n",
        "        arg1 = tf.math.rsqrt(step)\n",
        "        arg2 = step * (self.warmup_steps ** -1.5)\n",
        "\n",
        "        return tf.math.rsqrt(self.d_model) * tf.math.minimum(arg1, arg2)"
      ]
    },
    {
      "cell_type": "markdown",
      "id": "919d0819",
      "metadata": {
        "id": "919d0819"
      },
      "source": [
        "### Sử dụng Adam optimizer với custom learning rate"
      ]
    },
    {
      "cell_type": "code",
      "execution_count": 32,
      "id": "c48b9b8b",
      "metadata": {
        "id": "c48b9b8b"
      },
      "outputs": [],
      "source": [
        "temp_learning_rate_schedule = CustomSchedule(d_model)\n",
        "learning_rate = CustomSchedule(d_model)\n",
        "optimizer = Adam(learning_rate, beta_1=0.9, beta_2=0.98, epsilon=1e-9)"
      ]
    },
    {
      "cell_type": "code",
      "execution_count": 33,
      "id": "ffa893a0",
      "metadata": {
        "colab": {
          "base_uri": "https://localhost:8080/",
          "height": 467
        },
        "id": "ffa893a0",
        "outputId": "5d9dc4d1-79ff-4bcd-e1fc-b5e06a4bcd82"
      },
      "outputs": [
        {
          "output_type": "execute_result",
          "data": {
            "text/plain": [
              "Text(0.5, 0, 'Train Step')"
            ]
          },
          "metadata": {},
          "execution_count": 33
        },
        {
          "output_type": "display_data",
          "data": {
            "text/plain": [
              "<Figure size 640x480 with 1 Axes>"
            ],
            "image/png": "[encoded data removed]"
          },
          "metadata": {}
        }
      ],
      "source": [
        "plt.plot(temp_learning_rate_schedule(tf.range(40000, dtype=tf.float32)))\n",
        "plt.ylabel(\"Learning Rate\")\n",
        "plt.xlabel(\"Train Step\")"
      ]
    },
    {
      "cell_type": "markdown",
      "id": "6554d6f6",
      "metadata": {
        "id": "6554d6f6"
      },
      "source": [
        "## Loss and metrics"
      ]
    },
    {
      "cell_type": "code",
      "execution_count": 34,
      "id": "a63817c4",
      "metadata": {
        "id": "a63817c4"
      },
      "outputs": [],
      "source": [
        "loss_object = SparseCategoricalCrossentropy(from_logits=True, reduction='none')\n",
        "\n",
        "def loss_function(real, pred):\n",
        "    mask = tf.math.logical_not(tf.math.equal(real, 0))\n",
        "    loss_ = loss_object(real, pred)\n",
        "\n",
        "    mask = tf.cast(mask, dtype=loss_.dtype)\n",
        "    loss_ *= mask\n",
        "\n",
        "    return tf.reduce_sum(loss_) / tf.reduce_sum(mask)\n",
        "\n",
        "\n",
        "def accuracy_function(real, pred):\n",
        "    accuracies = tf.equal(real, tf.argmax(pred, axis=2))\n",
        "\n",
        "    mask = tf.math.logical_not(tf.math.equal(real, 0))\n",
        "    accuracies = tf.math.logical_and(mask, accuracies)\n",
        "\n",
        "    accuracies = tf.cast(accuracies, dtype=tf.float32)\n",
        "    mask = tf.cast(mask, dtype=tf.float32)\n",
        "    return tf.reduce_sum(accuracies) / tf.reduce_sum(mask)"
      ]
    },
    {
      "cell_type": "code",
      "execution_count": 35,
      "id": "53e2be98",
      "metadata": {
        "id": "53e2be98"
      },
      "outputs": [],
      "source": [
        "train_loss = Mean(name='train_loss')\n",
        "train_accuracy = Mean(name='train_accuracy')"
      ]
    },
    {
      "cell_type": "code",
      "execution_count": 36,
      "id": "edfe51a5",
      "metadata": {
        "id": "edfe51a5"
      },
      "outputs": [],
      "source": [
        "with tf.device('/GPU:0'):\n",
        "    transformer = Transformer(\n",
        "        num_layers=num_layers,\n",
        "        d_model=d_model,\n",
        "        num_heads=num_heads,\n",
        "        dff=dff,\n",
        "        input_vocab_size=len(en_tokenizer.word_index) + 1,\n",
        "        target_vocab_size=len(vi_tokenizer.word_index) + 1,\n",
        "        pe_input=inputs.shape[1],\n",
        "        pe_target=targets.shape[1],\n",
        "        rate=dropout_rate\n",
        "    )"
      ]
    },
    {
      "cell_type": "code",
      "execution_count": 37,
      "id": "17709579",
      "metadata": {
        "id": "17709579"
      },
      "outputs": [],
      "source": [
        "def create_masks(inp, tar):\n",
        "    enc_padding_mask = create_padding_mask(inp)  # Encoder padding mask\n",
        "    dec_padding_mask = create_padding_mask(inp)  # Decoder padding mask\n",
        "\n",
        "    look_ahead_mask = create_look_ahead_mask(tf.shape(tar)[1])  # Decoder look ahead mask\n",
        "    dec_target_padding_mask = create_padding_mask(tar)  # Decoder target padding mask\n",
        "    combined_mask = tf.maximum(dec_target_padding_mask, look_ahead_mask)  # Cộng hai mask lại với nhau\n",
        "\n",
        "    return enc_padding_mask, combined_mask, dec_padding_mask  # Trả về các mask"
      ]
    },
    {
      "cell_type": "markdown",
      "id": "b5273b4b",
      "metadata": {
        "id": "b5273b4b"
      },
      "source": [
        "Sử dụng checkpoint manager để lưu lại trạng thái của mô hình sau các epoch"
      ]
    },
    {
      "cell_type": "code",
      "execution_count": 38,
      "id": "3ab22bb9",
      "metadata": {
        "id": "3ab22bb9"
      },
      "outputs": [],
      "source": [
        "checkpoint_path = \"checkpoints\"  # Đường dẫn lưu checkpoint\n",
        "check_point_exists = False  # Biến kiểm tra checkpoint đã tồn tại hay chưa\n",
        "\n",
        "ckpt = tf.train.Checkpoint(\n",
        "    transformer=transformer,\n",
        "    optimizer=optimizer\n",
        ")  # Tạo checkpoint\n",
        "\n",
        "ckpt_manager = tf.train.CheckpointManager(\n",
        "    ckpt,\n",
        "    checkpoint_path,\n",
        "    max_to_keep=5 # Số lượng checkpoint lớn nhất được lưu lại\n",
        ")  # Tạo checkpoint manager\n",
        "\n",
        "if ckpt_manager.latest_checkpoint:  # Nếu trong thư mục có checkpoint\n",
        "    ckpt.restore(ckpt_manager.latest_checkpoint)  # Restore checkpoint mới nhất\n",
        "    check_point_exists = True\n",
        "    print(\"Đã load checkpoint\")  # In ra đã restore checkpoint"
      ]
    },
    {
      "cell_type": "code",
      "execution_count": 39,
      "id": "c739b267",
      "metadata": {
        "id": "c739b267"
      },
      "outputs": [],
      "source": [
        "@tf.function\n",
        "def train_step(inp, tar):\n",
        "    tar_inp = tar[:, :-1]\n",
        "    tar_real = tar[:, 1:]\n",
        "\n",
        "    # Tạo các mask\n",
        "    enc_padding_mask, combined_mask, dec_padding_mask = create_masks(inp, tar_inp)\n",
        "\n",
        "    with tf.GradientTape() as tape:\n",
        "        # Gọi mô hình với keyword arguments\n",
        "        predictions, _ = transformer(\n",
        "            inp,\n",
        "            tar_inp,\n",
        "            training=True,\n",
        "            enc_padding_mask=enc_padding_mask,\n",
        "            look_ahead_mask=combined_mask,\n",
        "            dec_padding_mask=dec_padding_mask\n",
        "        )\n",
        "\n",
        "        loss = loss_function(tar_real, predictions)\n",
        "\n",
        "    gradients = tape.gradient(loss, transformer.trainable_variables)\n",
        "    optimizer.apply_gradients(zip(gradients, transformer.trainable_variables))\n",
        "\n",
        "    train_loss(loss)\n",
        "    train_accuracy(accuracy_function(tar_real, predictions))\n"
      ]
    },
    {
      "cell_type": "markdown",
      "id": "47b3cb6d",
      "metadata": {
        "id": "47b3cb6d"
      },
      "source": [
        "# Training the Model"
      ]
    },
    {
      "cell_type": "code",
      "execution_count": null,
      "id": "af5b9df4",
      "metadata": {
        "id": "af5b9df4"
      },
      "outputs": [],
      "source": [
        "# Ở đây tôi muốn nếu có checkpoint rồi thì chỉ cần sửa và không train thêm nữa\n",
        "if check_point_exists:  # Nếu chưa có checkpoint\n",
        "    EPOCHS = 0  # Số epoch /Nếu muốn train tiếp tục thì gán giá trị cho biến này"
      ]
    },
    {
      "cell_type": "code",
      "execution_count": null,
      "id": "fb210929",
      "metadata": {
        "colab": {
          "base_uri": "https://localhost:8080/"
        },
        "id": "fb210929",
        "outputId": "55e09278-c918-438e-f007-10fa61f1326d"
      },
      "outputs": [
        {
          "name": "stdout",
          "output_type": "stream",
          "text": [
            "Epoch 1 Batch 0 Loss 8.8424 Accuracy 0.0000\n",
            "Epoch 1 Batch 1000 Loss 6.0489 Accuracy 0.1601\n",
            "Epoch 1 Batch 2000 Loss 5.1152 Accuracy 0.2302\n",
            "Epoch 1 Batch 3000 Loss 4.5605 Accuracy 0.2830\n",
            "Saving checkpoint for epoch 1 at checkpoints/ckpt-1\n",
            "Epoch 1 Loss 4.4817 Accuracy 0.2908\n",
            "Time taken for 1 epoch: 554.35 secs\n",
            "\n",
            "Epoch 2 Batch 0 Loss 3.4184 Accuracy 0.3970\n",
            "Epoch 2 Batch 1000 Loss 2.9527 Accuracy 0.4475\n",
            "Epoch 2 Batch 2000 Loss 2.7982 Accuracy 0.4681\n",
            "Epoch 2 Batch 3000 Loss 2.6702 Accuracy 0.4861\n",
            "Saving checkpoint for epoch 2 at checkpoints/ckpt-2\n",
            "Epoch 2 Loss 2.6496 Accuracy 0.4891\n",
            "Time taken for 1 epoch: 486.36 secs\n",
            "\n",
            "Epoch 3 Batch 0 Loss 2.1232 Accuracy 0.5741\n",
            "Epoch 3 Batch 1000 Loss 2.2213 Accuracy 0.5508\n",
            "Epoch 3 Batch 2000 Loss 2.1577 Accuracy 0.5607\n",
            "Epoch 3 Batch 3000 Loss 2.1039 Accuracy 0.5689\n",
            "Saving checkpoint for epoch 3 at checkpoints/ckpt-3\n",
            "Epoch 3 Loss 2.0946 Accuracy 0.5704\n",
            "Time taken for 1 epoch: 484.90 secs\n",
            "\n",
            "Epoch 4 Batch 0 Loss 1.8093 Accuracy 0.6207\n",
            "Epoch 4 Batch 1000 Loss 1.9055 Accuracy 0.6006\n",
            "Epoch 4 Batch 2000 Loss 1.8666 Accuracy 0.6071\n",
            "Epoch 4 Batch 3000 Loss 1.8333 Accuracy 0.6130\n",
            "Saving checkpoint for epoch 4 at checkpoints/ckpt-4\n",
            "Epoch 4 Loss 1.8273 Accuracy 0.6140\n",
            "Time taken for 1 epoch: 484.66 secs\n",
            "\n",
            "Epoch 5 Batch 0 Loss 1.6315 Accuracy 0.6600\n",
            "Epoch 5 Batch 1000 Loss 1.7040 Accuracy 0.6365\n",
            "Epoch 5 Batch 2000 Loss 1.6768 Accuracy 0.6410\n",
            "Epoch 5 Batch 3000 Loss 1.6269 Accuracy 0.6512\n",
            "Saving checkpoint for epoch 5 at checkpoints/ckpt-5\n",
            "Epoch 5 Loss 1.6171 Accuracy 0.6532\n",
            "Time taken for 1 epoch: 484.29 secs\n",
            "\n",
            "Epoch 6 Batch 0 Loss 1.3592 Accuracy 0.6962\n",
            "Epoch 6 Batch 1000 Loss 1.4021 Accuracy 0.6978\n",
            "Epoch 6 Batch 2000 Loss 1.3466 Accuracy 0.7097\n",
            "Epoch 6 Batch 3000 Loss 1.3014 Accuracy 0.7197\n",
            "Saving checkpoint for epoch 6 at checkpoints/ckpt-6\n",
            "Epoch 6 Loss 1.2937 Accuracy 0.7214\n",
            "Time taken for 1 epoch: 484.00 secs\n",
            "\n",
            "Epoch 7 Batch 0 Loss 1.1943 Accuracy 0.7483\n",
            "Epoch 7 Batch 1000 Loss 1.1406 Accuracy 0.7550\n",
            "Epoch 7 Batch 2000 Loss 1.1128 Accuracy 0.7607\n",
            "Epoch 7 Batch 3000 Loss 1.0893 Accuracy 0.7654\n",
            "Saving checkpoint for epoch 7 at checkpoints/ckpt-7\n",
            "Epoch 7 Loss 1.0854 Accuracy 0.7663\n",
            "Time taken for 1 epoch: 484.04 secs\n",
            "\n",
            "Epoch 8 Batch 0 Loss 1.0248 Accuracy 0.7802\n",
            "Epoch 8 Batch 1000 Loss 1.0036 Accuracy 0.7832\n",
            "Epoch 8 Batch 2000 Loss 0.9846 Accuracy 0.7870\n",
            "Epoch 8 Batch 3000 Loss 0.9688 Accuracy 0.7900\n",
            "Saving checkpoint for epoch 8 at checkpoints/ckpt-8\n",
            "Epoch 8 Loss 0.9664 Accuracy 0.7905\n",
            "Time taken for 1 epoch: 484.42 secs\n",
            "\n",
            "Epoch 9 Batch 0 Loss 0.9436 Accuracy 0.7912\n",
            "Epoch 9 Batch 1000 Loss 0.9109 Accuracy 0.8011\n",
            "Epoch 9 Batch 2000 Loss 0.8974 Accuracy 0.8035\n",
            "Epoch 9 Batch 3000 Loss 0.8858 Accuracy 0.8058\n",
            "Saving checkpoint for epoch 9 at checkpoints/ckpt-9\n",
            "Epoch 9 Loss 0.8842 Accuracy 0.8061\n",
            "Time taken for 1 epoch: 484.37 secs\n",
            "\n",
            "Epoch 10 Batch 0 Loss 0.7717 Accuracy 0.8073\n",
            "Epoch 10 Batch 1000 Loss 0.8427 Accuracy 0.8140\n",
            "Epoch 10 Batch 2000 Loss 0.8323 Accuracy 0.8159\n",
            "Epoch 10 Batch 3000 Loss 0.8240 Accuracy 0.8176\n",
            "Saving checkpoint for epoch 10 at checkpoints/ckpt-10\n",
            "Epoch 10 Loss 0.8226 Accuracy 0.8179\n",
            "Time taken for 1 epoch: 484.87 secs\n",
            "\n",
            "Epoch 11 Batch 0 Loss 0.9498 Accuracy 0.8069\n",
            "Epoch 11 Batch 1000 Loss 0.7939 Accuracy 0.8238\n",
            "Epoch 11 Batch 2000 Loss 0.7829 Accuracy 0.8256\n",
            "Epoch 11 Batch 3000 Loss 0.7757 Accuracy 0.8271\n",
            "Saving checkpoint for epoch 11 at checkpoints/ckpt-11\n",
            "Epoch 11 Loss 0.7744 Accuracy 0.8273\n",
            "Time taken for 1 epoch: 483.47 secs\n",
            "\n",
            "Epoch 12 Batch 0 Loss 0.6925 Accuracy 0.8511\n",
            "Epoch 12 Batch 1000 Loss 0.7507 Accuracy 0.8327\n",
            "Epoch 12 Batch 2000 Loss 0.7422 Accuracy 0.8339\n",
            "Epoch 12 Batch 3000 Loss 0.7360 Accuracy 0.8352\n",
            "Saving checkpoint for epoch 12 at checkpoints/ckpt-12\n",
            "Epoch 12 Loss 0.7349 Accuracy 0.8354\n",
            "Time taken for 1 epoch: 483.78 secs\n",
            "\n",
            "Epoch 13 Batch 0 Loss 0.6402 Accuracy 0.8483\n",
            "Epoch 13 Batch 1000 Loss 0.7139 Accuracy 0.8393\n",
            "Epoch 13 Batch 2000 Loss 0.7073 Accuracy 0.8405\n",
            "Epoch 13 Batch 3000 Loss 0.7026 Accuracy 0.8416\n",
            "Saving checkpoint for epoch 13 at checkpoints/ckpt-13\n",
            "Epoch 13 Loss 0.7016 Accuracy 0.8418\n",
            "Time taken for 1 epoch: 483.81 secs\n",
            "\n",
            "Epoch 14 Batch 0 Loss 0.6327 Accuracy 0.8687\n",
            "Epoch 14 Batch 1000 Loss 0.6834 Accuracy 0.8454\n",
            "Epoch 14 Batch 2000 Loss 0.6764 Accuracy 0.8469\n",
            "Epoch 14 Batch 3000 Loss 0.6725 Accuracy 0.8478\n",
            "Saving checkpoint for epoch 14 at checkpoints/ckpt-14\n",
            "Epoch 14 Loss 0.6716 Accuracy 0.8480\n",
            "Time taken for 1 epoch: 483.89 secs\n",
            "\n",
            "Epoch 15 Batch 0 Loss 0.5948 Accuracy 0.8588\n",
            "Epoch 15 Batch 1000 Loss 0.6577 Accuracy 0.8504\n",
            "Epoch 15 Batch 2000 Loss 0.6512 Accuracy 0.8516\n",
            "Epoch 15 Batch 3000 Loss 0.6482 Accuracy 0.8522\n",
            "Saving checkpoint for epoch 15 at checkpoints/ckpt-15\n",
            "Epoch 15 Loss 0.6478 Accuracy 0.8523\n",
            "Time taken for 1 epoch: 485.81 secs\n",
            "\n"
          ]
        }
      ],
      "source": [
        "for epoch in range(EPOCHS):\n",
        "    start = time.time()  # Lấy thời gian bắt đầu train\n",
        "\n",
        "    train_loss.reset_state()  # Reset loss\n",
        "    train_accuracy.reset_state()  # Reset accuracy\n",
        "\n",
        "    for (batch, (inp, tar)) in enumerate(dataset):  # Lặp qua các batch dữ liệu\n",
        "        train_step(inp, tar)  # Train mô hình\n",
        "\n",
        "        if batch % 1000 == 0:  # In loss và accuracy sau mỗi 500 batch\n",
        "            # In loss và accuracy\n",
        "            print(f'Epoch {epoch + 1} Batch {batch} Loss {train_loss.result():.4f} Accuracy {train_accuracy.result():.4f}')\n",
        "\n",
        "    ckpt_save_path = ckpt_manager.save()  # Lưu checkpoint\n",
        "    # In ra đã lưu checkpoint\n",
        "    print(f'Saving checkpoint for epoch {epoch + 1} at {ckpt_save_path}')\n",
        "\n",
        "    # In loss và accuracy sau mỗi epoch\n",
        "    print(f'Epoch {epoch + 1} Loss {train_loss.result():.4f} Accuracy {train_accuracy.result():.4f}')\n",
        "    # In ra thời gian train mỗi epoch\n",
        "    print(f'Time taken for 1 epoch: {time.time() - start:.2f} secs\\n')"
      ]
    },
    {
      "cell_type": "markdown",
      "id": "6b95f4da",
      "metadata": {
        "id": "6b95f4da"
      },
      "source": [
        "### Calculate"
      ]
    },
    {
      "cell_type": "code",
      "execution_count": 40,
      "id": "d1807c6c",
      "metadata": {
        "id": "d1807c6c"
      },
      "outputs": [],
      "source": [
        "def calculate(input_english):\n",
        "    input_english = en_tokenizer.texts_to_sequences([input_english])\n",
        "    input_english = pad_sequences(input_english, maxlen=ENCODER_LEN, padding='post', truncating='post')\n",
        "\n",
        "    encoder_input = tf.expand_dims(input_english[0], 0)\n",
        "\n",
        "    decoder_input = [vi_tokenizer.word_index['startseq']]\n",
        "    output = tf.expand_dims(decoder_input, 0)\n",
        "\n",
        "    for i in range(DECODER_LEN):\n",
        "        enc_padding_mask, combined_mask, dec_padding_mask = create_masks(encoder_input, output)\n",
        "\n",
        "        predictions, attention_weights = transformer(\n",
        "            inp=encoder_input,\n",
        "            tar=output,\n",
        "            enc_padding_mask=enc_padding_mask,\n",
        "            look_ahead_mask=combined_mask,\n",
        "            dec_padding_mask=dec_padding_mask,\n",
        "            training=False\n",
        "        )\n",
        "\n",
        "        predictions = predictions[:, -1:, :]\n",
        "        predicted_id = tf.cast(tf.argmax(predictions, axis=-1), dtype=tf.int32)  # 🔧 ép kiểu về int32\n",
        "\n",
        "        predicted_token = predicted_id.numpy()[0][0]\n",
        "\n",
        "        if predicted_token == vi_tokenizer.word_index['endseq']:\n",
        "            break\n",
        "\n",
        "        output = tf.concat([output, predicted_id], axis=-1)\n",
        "\n",
        "    return tf.squeeze(output, axis=0)"
      ]
    },
    {
      "cell_type": "markdown",
      "source": [
        "## Translation"
      ],
      "metadata": {
        "id": "Re0uhKK1J3eg"
      },
      "id": "Re0uhKK1J3eg"
    },
    {
      "cell_type": "code",
      "source": [
        "def translation(input_english):\n",
        "    vietnamese = calculate(input_english=input_english).numpy()\n",
        "    vietnamese = np.expand_dims(vietnamese[1:], 0)  # Bỏ \"startseq\"\n",
        "    return vi_tokenizer.sequences_to_texts(vietnamese)[0]"
      ],
      "metadata": {
        "id": "S2dMBho_J3E6"
      },
      "id": "S2dMBho_J3E6",
      "execution_count": 41,
      "outputs": []
    },
    {
      "cell_type": "markdown",
      "id": "5a3a385e",
      "metadata": {
        "id": "5a3a385e"
      },
      "source": [
        "# Test"
      ]
    },
    {
      "cell_type": "code",
      "source": [
        "en_content = test_data['en'][0]\n",
        "vi_content = test_data['vi'][0]\n",
        "\n",
        "predict = translation(en_content)\n",
        "\n",
        "print(\"Câu Tiếng Anh: \", en_content)\n",
        "print(\"Câu dịch đúng: \", vi_content)\n",
        "print(\"Câu dịch dự đoán: \", predict)"
      ],
      "metadata": {
        "colab": {
          "base_uri": "https://localhost:8080/"
        },
        "id": "8e9Ls2U6Gco1",
        "outputId": "1e43f04d-7000-4050-b0eb-eda2cde51e6f"
      },
      "id": "8e9Ls2U6Gco1",
      "execution_count": 53,
      "outputs": [
        {
          "output_type": "stream",
          "name": "stdout",
          "text": [
            "Câu Tiếng Anh:  I thought you needed the sleep\n",
            "Câu dịch đúng:  tôi nghĩ bạn cần ngủ\n",
            "Câu dịch dự đoán:  Tôi nghĩ bạn cần ngủ\n"
          ]
        }
      ]
    },
    {
      "cell_type": "code",
      "execution_count": 54,
      "id": "P-ElCFaZJ3XX",
      "metadata": {
        "colab": {
          "base_uri": "https://localhost:8080/"
        },
        "id": "P-ElCFaZJ3XX",
        "outputId": "e6eda0b1-0d2f-4f47-d849-97d22803b849"
      },
      "outputs": [
        {
          "output_type": "stream",
          "name": "stdout",
          "text": [
            "Câu Tiếng Anh:  I can do this all night\n",
            "Câu dịch đúng:  tôi có thể làm điều này cả đêm\n",
            "Câu dịch dự đoán:  Tôi có thể làm điều này cả đêm\n"
          ]
        }
      ],
      "source": [
        "en_content = test_data['en'][10]\n",
        "vi_content = test_data['vi'][10]\n",
        "\n",
        "predict = translation(en_content)\n",
        "\n",
        "print(\"Câu Tiếng Anh: \", en_content)\n",
        "print(\"Câu dịch đúng: \", vi_content)\n",
        "print(\"Câu dịch dự đoán: \", predict)"
      ]
    },
    {
      "cell_type": "code",
      "execution_count": 55,
      "id": "dbff333a",
      "metadata": {
        "colab": {
          "base_uri": "https://localhost:8080/"
        },
        "id": "dbff333a",
        "outputId": "abbcd340-3a97-40e2-a957-c307b25e4f46"
      },
      "outputs": [
        {
          "output_type": "stream",
          "name": "stdout",
          "text": [
            "Câu dịch dự đoán:  Tôi không thích bạn đến lớp trễ\n"
          ]
        }
      ],
      "source": [
        "en_content = \"I don't like you to come to class late\"\n",
        "predict = translation(en_content)\n",
        "\n",
        "print(\"Câu dịch dự đoán: \", predict)"
      ]
    },
    {
      "cell_type": "markdown",
      "source": [
        "# Đánh Giá Model"
      ],
      "metadata": {
        "id": "m9B6BsgeJwvr"
      },
      "id": "m9B6BsgeJwvr"
    },
    {
      "cell_type": "markdown",
      "id": "2d71d3c3",
      "metadata": {
        "id": "2d71d3c3"
      },
      "source": [
        "## BLUE"
      ]
    },
    {
      "cell_type": "code",
      "execution_count": 45,
      "id": "ISZTWYrAYbRR",
      "metadata": {
        "colab": {
          "base_uri": "https://localhost:8080/"
        },
        "id": "ISZTWYrAYbRR",
        "outputId": "33ea565f-c39f-4f7f-9549-2ffac526a5e8"
      },
      "outputs": [
        {
          "output_type": "stream",
          "name": "stdout",
          "text": [
            "BLEU Score (sacreBLEU): 64.12017558073377\n"
          ]
        }
      ],
      "source": [
        "from nltk.translate.bleu_score import corpus_bleu\n",
        "import sacrebleu\n",
        "\n",
        "references = []\n",
        "hypotheses = []\n",
        "\n",
        "for idx in range(30):\n",
        "    en_content = test_data['en'][idx]\n",
        "    vi_content = test_data['vi'][idx]\n",
        "\n",
        "    # Dự đoán\n",
        "    predict = translation(en_content)\n",
        "\n",
        "    # Lưu kết quả\n",
        "    references.append(vi_content)\n",
        "    hypotheses.append(predict)\n",
        "\n",
        "# Tính BLEU bằng sacreBLEU\n",
        "bleu = sacrebleu.corpus_bleu(hypotheses, [references])\n",
        "print(\"BLEU Score (sacreBLEU):\", bleu.score)"
      ]
    },
    {
      "cell_type": "markdown",
      "source": [
        "## chr-F"
      ],
      "metadata": {
        "id": "Pss16Oujobqi"
      },
      "id": "Pss16Oujobqi"
    },
    {
      "cell_type": "code",
      "source": [
        "# Bước 1: Ghép từ thành câu\n",
        "hypotheses_str = [' '.join(h) for h in hypotheses]\n",
        "references_str = [' '.join(r[0]) for r in references]  # lấy bản tham chiếu đầu tiên\n",
        "\n",
        "# Bước 2: Định dạng lại cho sacrebleu: list chứa 1 list các câu tham chiếu\n",
        "refs = [references_str]\n",
        "\n",
        "# Tính chr-F\n",
        "chrf = sacrebleu.corpus_chrf(hypotheses_str, refs)\n",
        "print(\"🎯 chr-F Score:\", chrf.score)"
      ],
      "metadata": {
        "colab": {
          "base_uri": "https://localhost:8080/"
        },
        "outputId": "77676cb8-a9d3-4ca2-f305-40f1a62f2643",
        "id": "OKkqa9-pobqk"
      },
      "execution_count": null,
      "outputs": [
        {
          "output_type": "stream",
          "name": "stdout",
          "text": [
            "🎯 chr-F Score: 77.1204580636119\n"
          ]
        }
      ],
      "id": "OKkqa9-pobqk"
    },
    {
      "cell_type": "markdown",
      "id": "IHzyx-cxxiQR",
      "metadata": {
        "id": "IHzyx-cxxiQR"
      },
      "source": [
        "## METEOR"
      ]
    },
    {
      "cell_type": "code",
      "execution_count": 48,
      "id": "9Fey8Eo7xknf",
      "metadata": {
        "colab": {
          "base_uri": "https://localhost:8080/"
        },
        "id": "9Fey8Eo7xknf",
        "outputId": "a8ff30c3-bf02-4ea6-ad57-ae847f90818f"
      },
      "outputs": [
        {
          "output_type": "stream",
          "name": "stderr",
          "text": [
            "[nltk_data] Downloading package wordnet to /root/nltk_data...\n",
            "[nltk_data] Downloading package omw-1.4 to /root/nltk_data...\n"
          ]
        },
        {
          "output_type": "execute_result",
          "data": {
            "text/plain": [
              "True"
            ]
          },
          "metadata": {},
          "execution_count": 48
        }
      ],
      "source": [
        "import nltk\n",
        "nltk.download('wordnet')\n",
        "nltk.download('omw-1.4')  # Bắt buộc để hỗ trợ tiếng Việt và từ đồng nghĩa"
      ]
    },
    {
      "cell_type": "code",
      "execution_count": 49,
      "id": "JDDsTvSNxmaO",
      "metadata": {
        "colab": {
          "base_uri": "https://localhost:8080/"
        },
        "id": "JDDsTvSNxmaO",
        "outputId": "744b9f9e-bc35-488d-c10d-6b9a24b5a37c"
      },
      "outputs": [
        {
          "output_type": "stream",
          "name": "stdout",
          "text": [
            "Average METEOR Score: 0.7909536177267931\n"
          ]
        }
      ],
      "source": [
        "from nltk.translate.meteor_score import meteor_score\n",
        "\n",
        "meteor_scores = []\n",
        "\n",
        "for idx in range(30):\n",
        "    en_content = test_data['en'][idx]\n",
        "    vi_content = test_data['vi'][idx]\n",
        "\n",
        "    # Dịch\n",
        "    predict = translation(en_content)\n",
        "\n",
        "    # Tokenize\n",
        "    reference = vi_content.strip().split()       # List[str]\n",
        "    hypothesis = predict.strip().split()         # List[str]\n",
        "\n",
        "    # Tính METEOR\n",
        "    score = meteor_score([reference], hypothesis)\n",
        "    meteor_scores.append(score)\n",
        "\n",
        "# Điểm trung bình\n",
        "avg_meteor = sum(meteor_scores) / len(meteor_scores)\n",
        "print(\"Average METEOR Score:\", avg_meteor)"
      ]
    },
    {
      "cell_type": "markdown",
      "id": "e5WqiynbnUkS",
      "metadata": {
        "id": "e5WqiynbnUkS"
      },
      "source": [
        "## PPL"
      ]
    },
    {
      "cell_type": "code",
      "execution_count": 50,
      "id": "mk4d_UoA3_RK",
      "metadata": {
        "id": "mk4d_UoA3_RK"
      },
      "outputs": [],
      "source": [
        "# Tiền xử lý dữ liệu tiếng Anh và tiếng Việt từ test_data\n",
        "preprocessed_en_test = preprocess_texts(test_data[\"en\"], is_vietnamese=False)\n",
        "preprocessed_vi_test = preprocess_texts(test_data[\"vi\"], is_vietnamese=True)\n",
        "\n",
        "# Mã hóa bằng tokenizer\n",
        "test_inputs = en_tokenizer.texts_to_sequences(preprocessed_en_test)\n",
        "test_targets = vi_tokenizer.texts_to_sequences(preprocessed_vi_test)\n",
        "\n",
        "# Padding\n",
        "test_inputs = pad_sequences(test_inputs, maxlen=ENCODER_LEN, padding='post', truncating='post')\n",
        "test_targets = pad_sequences(test_targets, maxlen=DECODER_LEN, padding='post', truncating='post')\n",
        "\n",
        "# Đưa về dạng Tensor\n",
        "test_inputs = tf.cast(test_inputs, dtype=tf.int64)\n",
        "test_targets = tf.cast(test_targets, dtype=tf.int64)\n",
        "\n",
        "# Tạo dataset dùng cho test\n",
        "test_dataset = tf.data.Dataset.from_tensor_slices((test_inputs, test_targets)).batch(BATCH_SIZE)"
      ]
    },
    {
      "cell_type": "code",
      "execution_count": 51,
      "id": "wamgevna438W",
      "metadata": {
        "id": "wamgevna438W"
      },
      "outputs": [],
      "source": [
        "# Sửa lại loss_function để trả về tổng loss và tổng số token\n",
        "loss_object = tf.keras.losses.SparseCategoricalCrossentropy(from_logits=True, reduction='none')\n",
        "\n",
        "def loss_function(real, pred):\n",
        "    mask = tf.math.logical_not(tf.math.equal(real, 0))\n",
        "    loss_ = loss_object(real, pred)\n",
        "\n",
        "    mask = tf.cast(mask, dtype=loss_.dtype)\n",
        "    loss_ *= mask\n",
        "\n",
        "    total_loss = tf.reduce_sum(loss_)\n",
        "    total_tokens = tf.reduce_sum(mask)\n",
        "\n",
        "    return total_loss, total_tokens"
      ]
    },
    {
      "cell_type": "code",
      "execution_count": 52,
      "id": "3poJp4IZnTnU",
      "metadata": {
        "id": "3poJp4IZnTnU"
      },
      "outputs": [],
      "source": [
        "def evaluate_perplexity(dataset):\n",
        "    total_loss = 0\n",
        "    total_tokens = 0\n",
        "\n",
        "    for (inp, tar) in dataset:\n",
        "        # Tách target thành input và output\n",
        "        tar_inp = tar[:, :-1]\n",
        "        tar_real = tar[:, 1:]\n",
        "\n",
        "        enc_padding_mask, combined_mask, dec_padding_mask = create_masks(inp, tar_inp)\n",
        "\n",
        "        # Dự đoán\n",
        "        predictions, _ = transformer(\n",
        "            inp,\n",
        "            tar_inp,\n",
        "            training=False,\n",
        "            enc_padding_mask=enc_padding_mask,\n",
        "            look_ahead_mask=combined_mask,\n",
        "            dec_padding_mask=dec_padding_mask\n",
        "        )\n",
        "\n",
        "        loss, num_tokens = loss_function(tar_real, predictions)\n",
        "        total_loss += loss\n",
        "        total_tokens += num_tokens\n",
        "\n",
        "    # Cross-entropy trung bình\n",
        "    avg_loss = total_loss / total_tokens\n",
        "    perplexity = tf.exp(avg_loss)\n",
        "    return perplexity.numpy()"
      ]
    },
    {
      "cell_type": "code",
      "execution_count": 53,
      "id": "KgCfpGuenXIt",
      "metadata": {
        "id": "KgCfpGuenXIt",
        "colab": {
          "base_uri": "https://localhost:8080/"
        },
        "outputId": "b02958a2-0056-4155-9f0e-9f63ce34a861"
      },
      "outputs": [
        {
          "output_type": "stream",
          "name": "stdout",
          "text": [
            "✅ Perplexity (PPL): 2.0548\n"
          ]
        }
      ],
      "source": [
        "ppl_score = evaluate_perplexity(test_dataset)\n",
        "print(f\"✅ Perplexity (PPL): {ppl_score:.4f}\")"
      ]
    },
    {
      "cell_type": "markdown",
      "id": "WRiPuFQfNiXi",
      "metadata": {
        "id": "WRiPuFQfNiXi"
      },
      "source": [
        "# Lưu model\n"
      ]
    },
    {
      "cell_type": "code",
      "execution_count": null,
      "id": "PM6sV3gbqBxI",
      "metadata": {
        "id": "PM6sV3gbqBxI"
      },
      "outputs": [],
      "source": [
        "def save_model_and_tokenizer(transformer, optimizer, en_tokenizer, vi_tokenizer, checkpoint_path='./checkpoints'):\n",
        "    ckpt = tf.train.Checkpoint(transformer=transformer, optimizer=optimizer)\n",
        "    ckpt_manager = tf.train.CheckpointManager(ckpt, checkpoint_path, max_to_keep=3)\n",
        "\n",
        "    save_path = ckpt_manager.save()\n",
        "    print(f\"✅ Checkpoint saved at: {save_path}\")\n",
        "\n",
        "    with open(os.path.join(checkpoint_path, 'en_tokenizer.pkl'), 'wb') as f:\n",
        "        pickle.dump(en_tokenizer, f)\n",
        "    with open(os.path.join(checkpoint_path, 'vi_tokenizer.pkl'), 'wb') as f:\n",
        "        pickle.dump(vi_tokenizer, f)\n",
        "    print(\"✅ Tokenizers saved\")"
      ]
    },
    {
      "cell_type": "code",
      "execution_count": null,
      "id": "ggoYtWLdSIbJ",
      "metadata": {
        "id": "ggoYtWLdSIbJ"
      },
      "outputs": [],
      "source": [
        "# Save the model and tokenizers after training\n",
        "save_model_and_tokenizer(transformer, optimizer, en_tokenizer, vi_tokenizer)"
      ]
    },
    {
      "cell_type": "markdown",
      "id": "gKMmOpEjYdNt",
      "metadata": {
        "id": "gKMmOpEjYdNt"
      },
      "source": [
        "# Load model"
      ]
    },
    {
      "cell_type": "code",
      "source": [
        "!unzip /content/transformer_model_15_epoch.zip -d checkpoints"
      ],
      "metadata": {
        "colab": {
          "base_uri": "https://localhost:8080/"
        },
        "id": "npSg5kVxCoa8",
        "outputId": "b78262a9-0b01-4b6a-f203-a72bd9e4f917"
      },
      "id": "npSg5kVxCoa8",
      "execution_count": 42,
      "outputs": [
        {
          "output_type": "stream",
          "name": "stdout",
          "text": [
            "Archive:  /content/transformer_model_15_epoch.zip\n",
            "  inflating: checkpoints/ckpt-15.index  \n",
            "  inflating: checkpoints/ckpt-14.data-00000-of-00001  \n",
            "  inflating: checkpoints/vi_tokenizer.pkl  \n",
            "  inflating: checkpoints/en_tokenizer.pkl  \n",
            "  inflating: checkpoints/ckpt-1.data-00000-of-00001  \n",
            "  inflating: checkpoints/ckpt-15.data-00000-of-00001  \n",
            "  inflating: checkpoints/ckpt-1.index  \n",
            "  inflating: checkpoints/checkpoint  \n",
            "  inflating: checkpoints/ckpt-14.index  \n"
          ]
        }
      ]
    },
    {
      "cell_type": "code",
      "execution_count": 43,
      "id": "yur7sCiUNkH1",
      "metadata": {
        "id": "yur7sCiUNkH1"
      },
      "outputs": [],
      "source": [
        "def build_model_for_restore(transformer, optimizer):\n",
        "    # Build cả mô hình để khớp checkpoint\n",
        "    dummy_inp = tf.ones((1, ENCODER_LEN), dtype=tf.int32)\n",
        "    dummy_tar = tf.ones((1, DECODER_LEN), dtype=tf.int32)\n",
        "\n",
        "    # Trigger model build by calling it\n",
        "    _ = transformer(\n",
        "        inp=dummy_inp,\n",
        "        tar=dummy_tar,\n",
        "        enc_padding_mask=None,\n",
        "        look_ahead_mask=None,\n",
        "        dec_padding_mask=None,\n",
        "        training=False\n",
        "    )\n",
        "\n",
        "    # Trigger optimizer variable creation by applying a dummy gradient\n",
        "    dummy_grads = [tf.zeros_like(v) for v in transformer.trainable_variables]\n",
        "    optimizer.apply_gradients(zip(dummy_grads, transformer.trainable_variables))\n",
        "\n",
        "def load_model_and_tokenizer(checkpoint_path='./checkpoints'):\n",
        "    global transformer, optimizer, en_tokenizer, vi_tokenizer\n",
        "\n",
        "    # Load tokenizers\n",
        "    with open(os.path.join(checkpoint_path, 'en_tokenizer.pkl'), 'rb') as f:\n",
        "        en_tokenizer = pickle.load(f)\n",
        "    with open(os.path.join(checkpoint_path, 'vi_tokenizer.pkl'), 'rb') as f:\n",
        "        vi_tokenizer = pickle.load(f)\n",
        "\n",
        "    # Rebuild model and optimizer\n",
        "    transformer = Transformer(\n",
        "        num_layers=6,\n",
        "        d_model=128,\n",
        "        num_heads=4,\n",
        "        dff=512,\n",
        "        input_vocab_size=len(en_tokenizer.word_index) + 1,\n",
        "        target_vocab_size=len(vi_tokenizer.word_index) + 1,\n",
        "        pe_input=ENCODER_LEN,\n",
        "        pe_target=DECODER_LEN,\n",
        "        rate=0.15\n",
        "    )\n",
        "    learning_rate = CustomSchedule(128)\n",
        "    optimizer = tf.keras.optimizers.Adam(learning_rate, beta_1=0.9, beta_2=0.98, epsilon=1e-9)\n",
        "\n",
        "    # Build mô hình và optimizer trước khi restore\n",
        "    build_model_for_restore(transformer, optimizer)\n",
        "\n",
        "    # Load checkpoint\n",
        "    ckpt = tf.train.Checkpoint(transformer=transformer, optimizer=optimizer)\n",
        "    ckpt_manager = tf.train.CheckpointManager(ckpt, checkpoint_path, max_to_keep=3)\n",
        "\n",
        "    if ckpt_manager.latest_checkpoint:\n",
        "        # Use assert_consumed() to ensure all checkpointed variables are loaded\n",
        "        ckpt.restore(ckpt_manager.latest_checkpoint).assert_consumed()\n",
        "        print(f\"✅ Checkpoint restored from {ckpt_manager.latest_checkpoint}\")\n",
        "    else:\n",
        "        print(\"❌ No checkpoint found.\")"
      ]
    },
    {
      "cell_type": "code",
      "execution_count": 44,
      "id": "hjxYRYI0OJzF",
      "metadata": {
        "id": "hjxYRYI0OJzF",
        "colab": {
          "base_uri": "https://localhost:8080/"
        },
        "outputId": "b4d1e135-7c13-4055-fb2e-a5bd5d142694"
      },
      "outputs": [
        {
          "output_type": "stream",
          "name": "stdout",
          "text": [
            "✅ Checkpoint restored from ./checkpoints/ckpt-1\n"
          ]
        }
      ],
      "source": [
        "# Load lại\n",
        "load_model_and_tokenizer()"
      ]
    },
    {
      "cell_type": "markdown",
      "id": "jiq4M6VtYg_7",
      "metadata": {
        "id": "jiq4M6VtYg_7"
      },
      "source": [
        "# Dự đoán"
      ]
    },
    {
      "cell_type": "code",
      "execution_count": 54,
      "id": "idjtUDlqXy7L",
      "metadata": {
        "id": "idjtUDlqXy7L",
        "colab": {
          "base_uri": "https://localhost:8080/"
        },
        "outputId": "2d67fbb8-54c3-4fca-86f2-5c2a2c89434c"
      },
      "outputs": [
        {
          "output_type": "stream",
          "name": "stdout",
          "text": [
            "Input: how old are you?\n",
            "Output: bạn bao nhiêu tuổi\n"
          ]
        }
      ],
      "source": [
        "# Kiểm tra dịch\n",
        "input_sentence = \"how old are you?\"\n",
        "output_sentence = translation(input_sentence)\n",
        "\n",
        "print(\"Input:\", input_sentence)\n",
        "print(\"Output:\", output_sentence)"
      ]
    },
    {
      "cell_type": "code",
      "source": [
        "# Kiểm tra dịch\n",
        "input_sentence = \"hi, can i join this party tonight?\"\n",
        "output_sentence = translation(input_sentence)\n",
        "\n",
        "print(\"Input:\", input_sentence)\n",
        "print(\"Output:\", output_sentence)"
      ],
      "metadata": {
        "colab": {
          "base_uri": "https://localhost:8080/"
        },
        "id": "VPQZbXFMHb1t",
        "outputId": "3f419a8c-3312-4199-ab37-7f365b44f29d"
      },
      "id": "VPQZbXFMHb1t",
      "execution_count": 55,
      "outputs": [
        {
          "output_type": "stream",
          "name": "stdout",
          "text": [
            "Input: hi, can i join this party tonight?\n",
            "Output: xin chào tôi có thể tham gia bữa tiệc tối nay không\n"
          ]
        }
      ]
    },
    {
      "cell_type": "code",
      "source": [
        "# Kiểm tra dịch\n",
        "input_sentence = \"You'd never know they are sisters\"\n",
        "output_sentence = translation(input_sentence)\n",
        "\n",
        "print(\"Input:\", input_sentence)\n",
        "print(\"Output:\", output_sentence)"
      ],
      "metadata": {
        "colab": {
          "base_uri": "https://localhost:8080/"
        },
        "id": "dCjdYJfFGEpl",
        "outputId": "3decd0dc-46e1-4c9e-c6db-ded9df026220"
      },
      "id": "dCjdYJfFGEpl",
      "execution_count": 58,
      "outputs": [
        {
          "output_type": "stream",
          "name": "stdout",
          "text": [
            "Input: You'd never know they are sisters\n",
            "Output: bạn không bao giờ biết họ là chị em\n"
          ]
        }
      ]
    },
    {
      "cell_type": "markdown",
      "id": "HVQ9GFhhqoXR",
      "metadata": {
        "id": "HVQ9GFhhqoXR"
      },
      "source": [
        "# Down model"
      ]
    },
    {
      "cell_type": "code",
      "execution_count": null,
      "id": "1cpihWHDbyoU",
      "metadata": {
        "id": "1cpihWHDbyoU"
      },
      "outputs": [],
      "source": [
        "import shutil\n",
        "\n",
        "shutil.make_archive('transformer_model', 'zip', './checkpoints')"
      ]
    },
    {
      "cell_type": "code",
      "execution_count": null,
      "id": "7RA3WXTHcIsm",
      "metadata": {
        "id": "7RA3WXTHcIsm"
      },
      "outputs": [],
      "source": [
        "from google.colab import files\n",
        "\n",
        "files.download('transformer_model.zip')"
      ]
    }
  ],
  "metadata": {
    "accelerator": "GPU",
    "colab": {
      "gpuType": "T4",
      "provenance": []
    },
    "kernelspec": {
      "display_name": "Python 3",
      "name": "python3"
    },
    "language_info": {
      "codemirror_mode": {
        "name": "ipython",
        "version": 3
      },
      "file_extension": ".py",
      "mimetype": "text/x-python",
      "name": "python",
      "nbconvert_exporter": "python",
      "pygments_lexer": "ipython3",
      "version": "3.10.10"
    },
    "papermill": {
      "default_parameters": {},
      "duration": 525.947559,
      "end_time": "2023-05-09T17:01:46.941886",
      "environment_variables": {},
      "exception": null,
      "input_path": "__notebook__.ipynb",
      "output_path": "__notebook__.ipynb",
      "parameters": {},
      "start_time": "2023-05-09T16:53:00.994327",
      "version": "2.4.0"
    }
  },
  "nbformat": 4,
  "nbformat_minor": 5
}